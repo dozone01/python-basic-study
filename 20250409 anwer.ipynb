{
 "cells": [
  {
   "cell_type": "markdown",
   "id": "0de3e538",
   "metadata": {
    "vscode": {
     "languageId": "plaintext"
    }
   },
   "source": [
    "# [별찍기 1번](https://www.acmicpc.net/problem/2440)\n",
    "\n",
    "### 문제 요구사항\n",
    "입력값 N을 받으면, N 높이의 줄수에 따라서 순차적으로 별의 개수가 줄어들도록 출력한다.\n",
    "\n",
    "### 분석\n",
    "- 입력 : N (input 필요)\n",
    "- 줄수 : 줄수 = 별의 개수\n",
    "- max_줄수 : 입력값 N\n",
    "- 줄당 별 개수 : N - 높이"
   ]
  },
  {
   "cell_type": "code",
   "execution_count": 3,
   "id": "4f93af12",
   "metadata": {},
   "outputs": [
    {
     "name": "stdout",
     "output_type": "stream",
     "text": [
      "******\n",
      "*****\n",
      "****\n",
      "***\n",
      "**\n",
      "*\n"
     ]
    }
   ],
   "source": [
    "N = int(input())\n",
    "# print( N, type(N) ) # check\n",
    "\n",
    "\n",
    "for i in range(N) :\n",
    "    star_num = N-i\n",
    "    print('*'*star_num)"
   ]
  },
  {
   "cell_type": "markdown",
   "id": "d15d1aaf",
   "metadata": {},
   "source": [
    "# [별찍기 2번](https://www.acmicpc.net/problem/2442)\n",
    "\n",
    "### 문제 요구사항\n",
    "입력 N을 받으면, 대칭이 되는 피라미드 모양으로 *를 출력한다.\n",
    "\n",
    "### 분석\n",
    "- *의 개수는 2N-1\n",
    "- 중앙을 맞추기 위해서 공백 필요\n",
    "  - 줄당 공백 개수 : N - 높이 - 1"
   ]
  },
  {
   "cell_type": "code",
   "execution_count": 5,
   "id": "94caed7a",
   "metadata": {},
   "outputs": [
    {
     "name": "stdout",
     "output_type": "stream",
     "text": [
      "    *\n",
      "   ***\n",
      "  *****\n",
      " *******\n",
      "*********\n"
     ]
    }
   ],
   "source": [
    "N = int(input())\n",
    "\n",
    "for i in range(N):\n",
    "    empty_num = N-i-1\n",
    "    start_num = 2*i+1\n",
    "    print(' '*empty_num, end='')\n",
    "    print('*'*start_num)"
   ]
  },
  {
   "cell_type": "markdown",
   "id": "5b85b5d4",
   "metadata": {},
   "source": [
    "# [문자열 다루기 - 팰린드롬 인지 확인하기](https://www.acmicpc.net/problem/10988)\n",
    "\n",
    "### 문제 요구사항\n",
    "- 입력 : 알파벳 문자로 이루어진 문자열\n",
    "- 앞뒤로 같은 문자\n",
    "\n",
    "### 분석\n",
    "- 앞과 뒤가 순서대로 같은지 확인\n",
    "\n",
    "### 경계값 \n",
    "- 중앙 값\n",
    "- 홀수 짝수 다르게 처리"
   ]
  },
  {
   "cell_type": "code",
   "execution_count": 17,
   "id": "d16d95f6",
   "metadata": {},
   "outputs": [
    {
     "name": "stdout",
     "output_type": "stream",
     "text": [
      "0\n"
     ]
    }
   ],
   "source": [
    "S = input()\n",
    "\n",
    "num = len(S)\n",
    "size = num // 2 # 홀수인 경우 중간값 확인 필요 없음\n",
    "\n",
    "# print(num, size, S[size-1], S[(num-1)-size])\n",
    "\n",
    "success = True\n",
    "for i in range(size):\n",
    "    start = i\n",
    "    end = (num-1)-i\n",
    "    if S[start] != S[end]:\n",
    "        success = False\n",
    "        break\n",
    "\n",
    "if success : print(1)\n",
    "else : print(0)"
   ]
  },
  {
   "cell_type": "markdown",
   "id": "bff1c56f",
   "metadata": {},
   "source": [
    "# [문자열 다루기 - 팰린드롬 만들기](https://www.acmicpc.net/problem/1213) \n",
    "- 문제를 제가 잘못 냈어요.\n",
    "- 다음 문제로 넘길께요\n"
   ]
  }
 ],
 "metadata": {
  "kernelspec": {
   "display_name": "flask",
   "language": "python",
   "name": "python3"
  },
  "language_info": {
   "codemirror_mode": {
    "name": "ipython",
    "version": 3
   },
   "file_extension": ".py",
   "mimetype": "text/x-python",
   "name": "python",
   "nbconvert_exporter": "python",
   "pygments_lexer": "ipython3",
   "version": "3.11.10"
  }
 },
 "nbformat": 4,
 "nbformat_minor": 5
}
