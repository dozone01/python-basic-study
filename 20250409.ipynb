{
 "cells": [
  {
   "cell_type": "markdown",
   "id": "0de3e538",
   "metadata": {
    "vscode": {
     "languageId": "plaintext"
    }
   },
   "source": [
    "# [별찍기 1번](https://www.acmicpc.net/problem/2440)\n",
    "\n",
    "### 문제 요구사항\n",
    "입력값 N을 받으면, N 높이의 줄수에 따라서 순차적으로 별의 개수가 줄어들도록 출력한다.\n",
    "\n",
    "### 분석\n",
    "- 입력 : N (input 필요)\n",
    "- 줄수 : 줄수 = 별의 개수\n",
    "- max_줄수 : 입력값 N\n",
    "- 줄당 별 개수 : N - 높이"
   ]
  },
  {
   "cell_type": "code",
   "execution_count": null,
   "id": "d8f6705c",
   "metadata": {},
   "outputs": [],
   "source": []
  },
  {
   "cell_type": "markdown",
   "id": "d15d1aaf",
   "metadata": {},
   "source": [
    "# [별찍기 2번](https://www.acmicpc.net/problem/2442)\n",
    "\n",
    "### 문제 요구사항\n",
    "입력 N을 받으면, 대칭이 되는 피라미드 모양으로 *를 출력한다.\n",
    "\n",
    "### 분석\n",
    "- *의 개수는 2N-1\n",
    "- 중앙을 맞추기 위해서 공백 필요\n",
    "  - 줄당 공백 개수 : N - 높이 - 1"
   ]
  },
  {
   "cell_type": "code",
   "execution_count": null,
   "id": "fd5614c5",
   "metadata": {},
   "outputs": [],
   "source": []
  },
  {
   "cell_type": "markdown",
   "id": "5b85b5d4",
   "metadata": {},
   "source": [
    "# [문자열 다루기 - 팰린드롬 인지 확인하기](https://www.acmicpc.net/problem/10988)"
   ]
  },
  {
   "cell_type": "markdown",
   "id": "bff1c56f",
   "metadata": {},
   "source": [
    "# [문자열 다루기 - 팰린드롬 만들기](https://www.acmicpc.net/problem/1213) \n",
    "- 문제를 제가 잘못 냈어요.\n",
    "- 다음 문제로 넘길께요\n"
   ]
  }
 ],
 "metadata": {
  "kernelspec": {
   "display_name": "flask",
   "language": "python",
   "name": "python3"
  },
  "language_info": {
   "codemirror_mode": {
    "name": "ipython",
    "version": 3
   },
   "file_extension": ".py",
   "mimetype": "text/x-python",
   "name": "python",
   "nbconvert_exporter": "python",
   "pygments_lexer": "ipython3",
   "version": "3.11.10"
  }
 },
 "nbformat": 4,
 "nbformat_minor": 5
}
