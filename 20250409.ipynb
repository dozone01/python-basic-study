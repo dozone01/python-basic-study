{
 "cells": [
  {
   "cell_type": "markdown",
   "id": "0de3e538",
   "metadata": {
    "vscode": {
     "languageId": "plaintext"
    }
   },
   "source": [
    "# [별찍기 1번](https://www.acmicpc.net/problem/2440)\n",
    "\n"
   ]
  },
  {
   "cell_type": "code",
   "execution_count": null,
   "id": "4f93af12",
   "metadata": {
    "vscode": {
     "languageId": "plaintext"
    }
   },
   "outputs": [],
   "source": []
  },
  {
   "cell_type": "markdown",
   "id": "d15d1aaf",
   "metadata": {},
   "source": [
    "# [별찍기 2번](https://www.acmicpc.net/problem/2442)"
   ]
  },
  {
   "cell_type": "code",
   "execution_count": null,
   "id": "94caed7a",
   "metadata": {
    "vscode": {
     "languageId": "plaintext"
    }
   },
   "outputs": [],
   "source": []
  },
  {
   "cell_type": "markdown",
   "id": "bff1c56f",
   "metadata": {},
   "source": [
    "# [문자열 다루기 - 팰린드롬](https://www.acmicpc.net/problem/1213)"
   ]
  },
  {
   "cell_type": "code",
   "execution_count": null,
   "id": "46b3a3f3",
   "metadata": {
    "vscode": {
     "languageId": "plaintext"
    }
   },
   "outputs": [],
   "source": []
  }
 ],
 "metadata": {
  "language_info": {
   "name": "python"
  }
 },
 "nbformat": 4,
 "nbformat_minor": 5
}
