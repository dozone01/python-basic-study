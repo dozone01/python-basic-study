{
 "cells": [
  {
   "cell_type": "markdown",
   "metadata": {},
   "source": [
    "# 별그리기\n",
    "\n",
    "![화면 캡처 2023-07-21 151100](https://github.com/taktakgyun/study-rust-SimpleWebServer/assets/18041844/a2e8fc59-001b-45e9-843a-a126f1ce917f)\n",
    "\n",
    "![img](https://dojang.io/pluginfile.php/13669/mod_page/content/2/021014.png)\n"
   ]
  },
  {
   "cell_type": "code",
   "execution_count": null,
   "metadata": {},
   "outputs": [],
   "source": [
    "import turtle as t\n",
    "\n",
    "n = 5\n",
    "line_length = 100\n",
    "degree = (360/n)\n",
    "\n",
    "for i in range(n):\n",
    "    # 코드를 작성하시오\n",
    "    ...\n",
    "\n",
    "t.mainloop()"
   ]
  },
  {
   "cell_type": "code",
   "execution_count": 1,
   "metadata": {},
   "outputs": [
    {
     "name": "stderr",
     "output_type": "stream",
     "text": [
      "2025-04-14 18:10:57.974 python[47879:629783] +[IMKClient subclass]: chose IMKClient_Modern\n",
      "2025-04-14 18:10:57.974 python[47879:629783] +[IMKInputSession subclass]: chose IMKInputSession_Modern\n"
     ]
    }
   ],
   "source": [
    "import turtle as t\n",
    "\n",
    "n = 5\n",
    "line_length = 100\n",
    "degree = (360/n)\n",
    "\n",
    "for i in range(n):\n",
    "    t.forward(line_length)\n",
    "    t.right(degree * 2)\n",
    "    t.forward(line_length)\n",
    "    t.left(degree)\n",
    "\n",
    "t.mainloop()"
   ]
  },
  {
   "cell_type": "markdown",
   "metadata": {},
   "source": [
    "## N각별의 한 각의 각도\n",
    "\n",
    "![img](https://github.com/taktakgyun/study-rust-SimpleWebServer/assets/18041844/215392e7-57b0-4447-911e-0148d21709a6)\n",
    "\n",
    "컴퓨터는 계산을 기가막히게 잘하다.\n",
    "<br>별 그릴 때 한 각의 크기를 알 수 있다면, N각 별을 쉽게 그릴 수 있다."
   ]
  },
  {
   "cell_type": "code",
   "execution_count": null,
   "metadata": {},
   "outputs": [],
   "source": [
    "num = 10\n",
    "num = num + 2\n",
    "\n",
    "print(num)\n",
    "\n",
    "# n은 각의 개수\n",
    "for n in range(5, 13, 2):\n",
    "    degree = (180 - (360/n)) / (n - 2)\n",
    "    print(\"각이 \",n,\"개 인 별일 때, 한한 각은 : \", degree)"
   ]
  },
  {
   "cell_type": "markdown",
   "metadata": {},
   "source": [
    "## N각별을 그려라\n",
    "\n",
    "(홀수)N각 별의 한 각의 각도를 계산 방법을 참고하여,\n",
    "<br>`input`함수를 사용하여 N을 입력 받고, N각 별을 그리는 코드를 작성하세요.\n",
    "\n",
    "![img](https://github.com/taktakgyun/study-rust-SimpleWebServer/assets/18041844/215392e7-57b0-4447-911e-0148d21709a6)"
   ]
  },
  {
   "cell_type": "code",
   "execution_count": null,
   "metadata": {},
   "outputs": [],
   "source": [
    "import turtle as t\n",
    "import math as m\n",
    "\n",
    "# 코드를 작성하세요.\n",
    "\n",
    "t.mainloop()"
   ]
  },
  {
   "cell_type": "code",
   "execution_count": null,
   "metadata": {},
   "outputs": [],
   "source": [
    "import turtle as t\n",
    "import math as m\n",
    "\n",
    "\n",
    "t.speed(6)\n",
    "n = int(input(\"홀수 N을 입력해 주세요.\"))\n",
    "length = 300\n",
    "n_degree = 180 - (360 / n) # n각형의 한변의 값\n",
    "s_degree = n_degree/(n-2) # 별의 한 모서리의 값\n",
    "degree = 180 - s_degree # 돌아야될 각도\n",
    "\n",
    "for i in range(n):\n",
    "    t.fd(length)\n",
    "    t.rt(degree)\n",
    "\n",
    "t.mainloop()"
   ]
  },
  {
   "cell_type": "markdown",
   "metadata": {},
   "source": [
    "### 난이도 업\n",
    "![img](https://private-user-images.githubusercontent.com/18041844/433266353-5cf1fe5f-61eb-4653-8959-74b862cb19e3.png?jwt=eyJhbGciOiJIUzI1NiIsInR5cCI6IkpXVCJ9.eyJpc3MiOiJnaXRodWIuY29tIiwiYXVkIjoicmF3LmdpdGh1YnVzZXJjb250ZW50LmNvbSIsImtleSI6ImtleTUiLCJleHAiOjE3NDQ2MTYzOTcsIm5iZiI6MTc0NDYxNjA5NywicGF0aCI6Ii8xODA0MTg0NC80MzMyNjYzNTMtNWNmMWZlNWYtNjFlYi00NjUzLTg5NTktNzRiODYyY2IxOWUzLnBuZz9YLUFtei1BbGdvcml0aG09QVdTNC1ITUFDLVNIQTI1NiZYLUFtei1DcmVkZW50aWFsPUFLSUFWQ09EWUxTQTUzUFFLNFpBJTJGMjAyNTA0MTQlMkZ1cy1lYXN0LTElMkZzMyUyRmF3czRfcmVxdWVzdCZYLUFtei1EYXRlPTIwMjUwNDE0VDA3MzQ1N1omWC1BbXotRXhwaXJlcz0zMDAmWC1BbXotU2lnbmF0dXJlPTNmZmM0MTY2Mjg1NTYzMTRmYjFlYWU0N2FlYTU3MTY3OTM2NTIzODA4NTYxNDcxMWVkYTI1ZTk3NzE3OWFlMzQmWC1BbXotU2lnbmVkSGVhZGVycz1ob3N0In0.CMAL-LPDsU1fRqSY30FpcBAj7m1UPtWfQhnblGpe9co)\n",
    "\n",
    "- 위 이미지와 같이 다각 별을 감싸는 다각형을 추가로 그리세요.\n",
    "- 안하셔도 됩니다."
   ]
  },
  {
   "cell_type": "code",
   "execution_count": null,
   "metadata": {},
   "outputs": [],
   "source": [
    "import turtle as t\n",
    "import math as m\n",
    "\n",
    "# 코드를 작성하세요.\n",
    "\n",
    "t.mainloop()"
   ]
  },
  {
   "cell_type": "code",
   "execution_count": null,
   "metadata": {},
   "outputs": [],
   "source": [
    "import turtle as t\n",
    "import math as m\n",
    "\n",
    "\n",
    "t.speed(6)\n",
    "n = int(input(\"홀수 N을 입력해 주세요.\"))\n",
    "length = 300\n",
    "n_degree = 180 - (360 / n) # n각형의 한변의 값\n",
    "s_degree = n_degree/(n-2) # 별의 한 모서리의 값\n",
    "degree = 180 - s_degree # 돌아야될 각도\n",
    "\n",
    "for i in range(n):\n",
    "    t.fd(length)\n",
    "    t.rt(degree)\n",
    "\n",
    "div_degree =  (n_degree - s_degree) / 2 # 다각형 싱크를 위한 편이각\n",
    "t.lt(div_degree)\n",
    "\n",
    "degree = 180 - (360 / n) # n각형의 한변의 값\n",
    "degree = 180 - degree # 돌아야될 각도\n",
    "length = length * m.cos(m.radians(div_degree + s_degree/2)) / m.cos(m.radians(s_degree/2))\n",
    "\n",
    "for i in range(n):\n",
    "    t.fd(length)\n",
    "    t.rt(degree)\n",
    "\n",
    "t.mainloop()"
   ]
  },
  {
   "cell_type": "markdown",
   "metadata": {},
   "source": [
    "## 연산자 리마인드\n",
    "\n",
    "1. / : 나누기 ( 소숫점도 계산해 줌)\n",
    "2. // : 몫 ( 자연수에서만 가능, 나눈 몫이 나온다.(자연수로))\n",
    "3. % : 나머지 ( 자연수에서만 가능, 나머지가 나온다.(자연수로))"
   ]
  },
  {
   "cell_type": "code",
   "execution_count": null,
   "metadata": {},
   "outputs": [],
   "source": [
    "print(7 / 3)\n",
    "print(7 // 3)\n",
    "print(7 % 3)\n",
    "for i in range(10):\n",
    "    print(i%3, end=\" \")"
   ]
  },
  {
   "cell_type": "markdown",
   "metadata": {},
   "source": [
    "## 리스트 리마인드"
   ]
  },
  {
   "cell_type": "code",
   "execution_count": null,
   "metadata": {},
   "outputs": [],
   "source": [
    "numbers = [1, 2, 3, 4, 5]\n",
    "print(numbers)\n",
    "len(numbers)"
   ]
  },
  {
   "cell_type": "code",
   "execution_count": null,
   "metadata": {},
   "outputs": [],
   "source": [
    "subway = [\"유재석\", \"조세호\", \"박명수\", \"김연아\"] \n",
    "\n",
    "print(len(subway))\n",
    "print(subway[1:3])"
   ]
  },
  {
   "cell_type": "code",
   "execution_count": null,
   "metadata": {},
   "outputs": [],
   "source": [
    "\n",
    "subway = [\"유재석\", \"조세호\", \"박명수\", \"김연아\"] \n",
    "\n",
    "print(subway[0])\n",
    "\n",
    "for i in range(len(subway)):\n",
    "    print(i,\":\",subway[i])"
   ]
  },
  {
   "cell_type": "code",
   "execution_count": null,
   "metadata": {},
   "outputs": [],
   "source": [
    "\n",
    "subway = [\"유재석\", \"조세호\", \"박명수\", \"김연아\"] \n",
    "\n",
    "for name in subway:\n",
    "    print(name, end = \", \")\n",
    "    \n",
    "print()\n",
    "for i, name in enumerate(subway) :\n",
    "    print(i,\":\", name)"
   ]
  },
  {
   "cell_type": "markdown",
   "metadata": {},
   "source": [
    "# 명령어\n",
    "\n",
    "1. goto(x,y), setpos(x,y)\n",
    "   <br>: 터틀을 (x,y)의 위치로 이동\n",
    "2. pensize(x)\n",
    "   <br>: 그리는 선의 굵기를 x로 해준다.\n",
    "3. color(\"색상\")\n",
    "   <br>: 원하는 색상을 넣으면, 선과 터틀의 색상이 바뀐다.\n",
    "```python\n",
    "# 색상 종류\n",
    "colors=[\n",
    "    'red', \n",
    "    'blue',\n",
    "    'yellow',\n",
    "    'black',\n",
    "    'white',\n",
    "    'violet',\n",
    "    'green'\n",
    "    ]\n",
    "```"
   ]
  },
  {
   "cell_type": "markdown",
   "metadata": {},
   "source": [
    "### 새로운 함수 사용법 확인하기"
   ]
  },
  {
   "cell_type": "code",
   "execution_count": 5,
   "metadata": {},
   "outputs": [],
   "source": [
    "import turtle as t\n",
    "\n",
    "t.speed(1)\n",
    "\n",
    "t.fd(250)\n",
    "t.rt(90)\n",
    "t.color(\"red\")\n",
    "\n",
    "t.fd(250)\n",
    "t.rt(90)\n",
    "t.color(\"blue\")\n",
    "\n",
    "t.fd(250)\n",
    "t.rt(90)\n",
    "t.speed(5)\n",
    "t.pensize(5)\n",
    "\n",
    "t.fd(250)\n",
    "t.rt(90)\n",
    "\n",
    "t.goto(-100, -100)\n",
    "t.fd(250)\n",
    "\n",
    "t.goto(100, 100)\n",
    "t.goto(-100, 100)\n",
    "t.goto(100, -100)\n",
    "\n",
    "t.mainloop()\n"
   ]
  },
  {
   "cell_type": "markdown",
   "metadata": {},
   "source": [
    "# 알록달록 사각 소용돌이\n",
    "![img](https://blog.kakaocdn.net/dn/cbUPEi/btqGHLPwYYc/l1H1cQmC7yvfW4NE0NAkHk/img.png)\n",
    "<br>\n",
    "![img](https://blog.kakaocdn.net/dn/d70Rfg/btqGJGGKD4E/o56KiQyEoFC76EkKl39Ru1/img.gif)\n",
    "\n",
    "#### 팁\n",
    "\n",
    "1. 각을 92도로 지정하면 좋음\n",
    "2. % 연산자를 사용하면 좋다.\n",
    "3. 리스트를 잘 사용하길 바랍니다.\n",
    "4. i에 따라서 forward의 길이가 바뀝니다."
   ]
  },
  {
   "cell_type": "code",
   "execution_count": null,
   "metadata": {},
   "outputs": [],
   "source": [
    "import turtle as t\n",
    "\n",
    "t.speed(0)\n",
    "colors = ['red','green','blue']\n",
    "t.pensize(2)\n",
    "\n",
    "for i in range(1,500):\n",
    "    # 코드를 작성하세요.\n",
    "    ...\n",
    "\n",
    "t.mainloop()"
   ]
  },
  {
   "cell_type": "code",
   "execution_count": null,
   "metadata": {},
   "outputs": [],
   "source": [
    "from turtle import *\n",
    "\n",
    "speed(0)\n",
    "colors = ['red','green','blue']\n",
    "pensize(2)\n",
    "degree = 2\n",
    "\n",
    "for i in range(1,500):\n",
    "    color(colors[i%3])\n",
    "    forward(i)\n",
    "    left(90+degree)\n",
    "\n",
    "mainloop()"
   ]
  },
  {
   "cell_type": "markdown",
   "metadata": {},
   "source": [
    "# 별 여러개 그리기\n",
    "\n",
    "![화면 캡처 2023-07-21 180652](https://github.com/taktakgyun/study-rust-SimpleWebServer/assets/18041844/e6fe3436-8c74-4286-a361-d068c27695d5)\n",
    "\n",
    "- 이중 for 문이 사용 될 수 있습니다.\n",
    "- `%` 연산자가 사용됩니다.\n",
    "- N각 별의 각도를 구해야 합니다. \n",
    "  - 혹시 수식을 구하기 어렵다면 도움을 요청하세요"
   ]
  },
  {
   "cell_type": "code",
   "execution_count": null,
   "metadata": {},
   "outputs": [],
   "source": [
    "import turtle as t\n",
    "\n",
    "colors=[ 'red', 'blue', 'yellow', 'black', 'violet', 'green']\n",
    "line_length = 40\n",
    "\n",
    "# 위치 상단으로\n",
    "t.color(\"white\")\n",
    "t.goto(0,250)\n",
    "\n",
    "# 그림을 위한 초기 세팅\n",
    "t.speed(10)\n",
    "t.pensize(2)\n",
    "\n",
    "for n in range(5, 20):\n",
    "    # 코드를 작성하세요.\n",
    "    ...\n",
    "\n",
    "t.mainloop()"
   ]
  },
  {
   "cell_type": "code",
   "execution_count": null,
   "metadata": {},
   "outputs": [
    {
     "ename": "KeyboardInterrupt",
     "evalue": "",
     "output_type": "error",
     "traceback": [
      "\u001b[0;31m---------------------------------------------------------------------------\u001b[0m",
      "\u001b[0;31mKeyboardInterrupt\u001b[0m                         Traceback (most recent call last)",
      "Cell \u001b[0;32mIn[5], line 23\u001b[0m\n\u001b[1;32m     20\u001b[0m         t\u001b[38;5;241m.\u001b[39mforward(line_length)\n\u001b[1;32m     21\u001b[0m         t\u001b[38;5;241m.\u001b[39mleft( degree)\n\u001b[0;32m---> 23\u001b[0m t\u001b[38;5;241m.\u001b[39mmainloop()\n",
      "File \u001b[0;32m<string>:8\u001b[0m, in \u001b[0;36mmainloop\u001b[0;34m()\u001b[0m\n",
      "File \u001b[0;32m/opt/homebrew/anaconda3/envs/turtle/lib/python3.12/turtle.py:803\u001b[0m, in \u001b[0;36mTurtleScreenBase.mainloop\u001b[0;34m(self)\u001b[0m\n\u001b[1;32m    790\u001b[0m \u001b[38;5;28;01mdef\u001b[39;00m \u001b[38;5;21mmainloop\u001b[39m(\u001b[38;5;28mself\u001b[39m):\n\u001b[1;32m    791\u001b[0m \u001b[38;5;250m    \u001b[39m\u001b[38;5;124;03m\"\"\"Starts event loop - calling Tkinter's mainloop function.\u001b[39;00m\n\u001b[1;32m    792\u001b[0m \n\u001b[1;32m    793\u001b[0m \u001b[38;5;124;03m    No argument.\u001b[39;00m\n\u001b[0;32m   (...)\u001b[0m\n\u001b[1;32m    801\u001b[0m \n\u001b[1;32m    802\u001b[0m \u001b[38;5;124;03m    \"\"\"\u001b[39;00m\n\u001b[0;32m--> 803\u001b[0m     \u001b[38;5;28mself\u001b[39m\u001b[38;5;241m.\u001b[39mcv\u001b[38;5;241m.\u001b[39mtk\u001b[38;5;241m.\u001b[39mmainloop()\n",
      "\u001b[0;31mKeyboardInterrupt\u001b[0m: "
     ]
    }
   ],
   "source": [
    "import turtle as t\n",
    "\n",
    "colors=[ 'red', 'blue', 'yellow', 'black', 'violet', 'green']\n",
    "line_length = 40\n",
    "\n",
    "# 위치 상단으로\n",
    "t.color(\"white\")\n",
    "t.goto(0,250)\n",
    "\n",
    "# 그림을 위한 초기 세팅\n",
    "t.speed(10)\n",
    "t.pensize(2)\n",
    "\n",
    "for n in range(5, 20):\n",
    "    t.color(colors[n%len(colors)])\n",
    "    degree = (360/n)\n",
    "    for i in range(n):\n",
    "        t.forward(line_length)\n",
    "        t.right(degree * 2)\n",
    "        t.forward(line_length)\n",
    "        t.left( degree)\n",
    "\n",
    "t.mainloop()"
   ]
  },
  {
   "cell_type": "markdown",
   "metadata": {},
   "source": [
    "### 자유 미션 - 나만의 특별한 그림을 그려보세요.\n",
    "\n",
    "- 예시: 크리스마스 크리"
   ]
  },
  {
   "cell_type": "code",
   "execution_count": null,
   "metadata": {},
   "outputs": [],
   "source": [
    "import turtle as t\n",
    "\n",
    "# 코드를 작성하세요.\n",
    "\n",
    "t.mainloop()"
   ]
  }
 ],
 "metadata": {
  "kernelspec": {
   "display_name": "turtle",
   "language": "python",
   "name": "python3"
  },
  "language_info": {
   "codemirror_mode": {
    "name": "ipython",
    "version": 3
   },
   "file_extension": ".py",
   "mimetype": "text/x-python",
   "name": "python",
   "nbconvert_exporter": "python",
   "pygments_lexer": "ipython3",
   "version": "3.12.9"
  },
  "orig_nbformat": 4
 },
 "nbformat": 4,
 "nbformat_minor": 2
}
