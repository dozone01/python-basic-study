{
 "cells": [
  {
   "cell_type": "markdown",
   "metadata": {},
   "source": [
    "# Welcome\n",
    "turtle을 사용한 코딩 월드에 오신 것을 환영합니다.\n",
    "\n",
    "# First\n",
    "먼저 turtle을 깔아주세요."
   ]
  },
  {
   "cell_type": "code",
   "execution_count": null,
   "metadata": {},
   "outputs": [],
   "source": [
    "!python -m pip install --upgrade pip\n",
    "!pip install -r requirements.txt"
   ]
  },
  {
   "cell_type": "markdown",
   "metadata": {},
   "source": [
    "# 명령어\n",
    "\n",
    "1. mainloop()\n",
    "    <br>: 계속해서 창이 열릴 수 있도록 함\n",
    "2. speed(0~10)\n",
    "    <br>: 속도 변경 (숫자가 클수록 빠름)\n",
    "    <br> 0(최고속도), 1(느림), 10(빠름)\n",
    "3. forward(픽셀수), fd(픽셀수) \n",
    "    <br>: 커서 방향으로 픽셀수 만큼 전진\n",
    "4. backward(픽셀수), bk(픽셀수), back(픽셀수)\n",
    "   <br>: 커서 반대방향으로 픽셀수 만큼 후진\n",
    "5. right(각도), rt(각도)\n",
    "    <br>: 커서방향이 오른쪽으로 각도만큼 회전\n",
    "6. left(각도), lt(각도)\n",
    "    <br>: 커서방향이 왼쪽으로 각도만큼 회전\n",
    "7. shape(\"name\")\n",
    "    <br>: 커서의 모양을 변경 (아래 이미지 참고)\n",
    "<br>![이미지](https://blog.kakaocdn.net/dn/bAn1Re/btqRL2F5aUU/tOnO8JAcWaGLpTojSB2BPK/img.jpg)"
   ]
  },
  {
   "cell_type": "markdown",
   "metadata": {},
   "source": [
    "**결과 보면서 명령어 확인하기**"
   ]
  },
  {
   "cell_type": "code",
   "execution_count": null,
   "metadata": {},
   "outputs": [],
   "source": [
    "import turtle as t\n",
    "\n",
    "t.speed(1)\n",
    "t.forward(200)\n",
    "t.right(90)\n",
    "t.speed(5)\n",
    "t.shape(\"turtle\")\n",
    "t.forward(200)\n",
    "t.left(90)\n",
    "t.speed(0)\n",
    "t.shape(\"arrow\")\n",
    "t.backward(200)\n",
    "\n",
    "t.mainloop()"
   ]
  },
  {
   "cell_type": "markdown",
   "metadata": {},
   "source": [
    "# 사각형 만들기\n",
    "\n",
    "![사각형](https://blog.kakaocdn.net/dn/exxwQH/btqGGGBaiP7/KHjwo4qK1W3i1VfwUelXrK/img.png)"
   ]
  },
  {
   "cell_type": "code",
   "execution_count": null,
   "metadata": {},
   "outputs": [],
   "source": [
    "import turtle as t\n",
    "\n",
    "t.forward(200)\n",
    "t.left(90)\n",
    "t.forward(200)\n",
    "t.left(90)\n",
    "t.forward(200)\n",
    "t.left(90)\n",
    "t.forward(200)\n",
    "t.left(90)\n",
    "\n",
    "t.mainloop()"
   ]
  },
  {
   "cell_type": "markdown",
   "metadata": {},
   "source": [
    "# 반복문을 사용해서 코드 줄이기"
   ]
  },
  {
   "cell_type": "markdown",
   "metadata": {},
   "source": [
    "### 구구단 2단 출력\n",
    "반복문을 사용해서 2단을 출력하라\n",
    "\n",
    "**조건** : 코드수가 4줄이 넘어가면 안된다.\n",
    "\n",
    "```\n",
    "2 *  1 =  2\n",
    "2 *  2 =  4\n",
    "2 *  3 =  6\n",
    "2 *  4 =  8\n",
    "2 *  5 =  10\n",
    "2 *  6 =  12\n",
    "2 *  7 =  14\n",
    "2 *  8 =  16\n",
    "```"
   ]
  },
  {
   "cell_type": "code",
   "execution_count": null,
   "metadata": {},
   "outputs": [],
   "source": [
    "# 코드를 작성하세요."
   ]
  },
  {
   "cell_type": "markdown",
   "metadata": {},
   "source": [
    "# 사각형 만들기 2\n",
    "\n",
    "반복문을 사용해서 짧게 한다."
   ]
  },
  {
   "cell_type": "code",
   "execution_count": null,
   "metadata": {},
   "outputs": [],
   "source": [
    "import turtle as t\n",
    "\n",
    "# 코드를 작성하시오\n",
    "    \n",
    "t.mainloop()"
   ]
  },
  {
   "cell_type": "markdown",
   "metadata": {},
   "source": [
    "# 삼각형 만들기\n",
    "\n",
    "반복문을 사용하여 짧게 만들어라\n",
    "\n",
    "![img](https://blog.kakaocdn.net/dn/bE6smH/btqGH1LmZRD/7VkhQ4qKkCxyffowPDInJ1/img.png)"
   ]
  },
  {
   "cell_type": "code",
   "execution_count": null,
   "metadata": {},
   "outputs": [],
   "source": [
    "import turtle as t\n",
    "\n",
    "# 코드를 작성하시오\n",
    "\n",
    "t.mainloop()"
   ]
  },
  {
   "cell_type": "markdown",
   "metadata": {},
   "source": [
    "# 오각형 만들기\n",
    "\n",
    "![img](https://blog.kakaocdn.net/dn/bgPOJE/btqGHqYWt7P/Fa8OFrIJKC2T9ARznj3SR0/img.png)\n",
    "\n",
    "# 추가 설명\n",
    "\n",
    "360/변수의 수 = 다각형에서 하나의 외각\n",
    "\n",
    "![img](https://2.bp.blogspot.com/-nEpFb8cOCRM/W_Y1PbS2a0I/AAAAAAAACb8/mBHULFFUoWodvI21WAiS3f01qipLMOuKwCLcBGAs/s1600/%25EB%258B%25A4%25EA%25B0%2581%25ED%2598%2595%25EB%2582%25B4%25EA%25B0%2581%25EC%2599%25B8%25EA%25B0%2581.png)"
   ]
  },
  {
   "cell_type": "code",
   "execution_count": null,
   "metadata": {},
   "outputs": [],
   "source": [
    "import turtle as t\n",
    "\n",
    "# 코드를 작성하시오\n",
    "    \n",
    "t.mainloop()"
   ]
  },
  {
   "cell_type": "markdown",
   "metadata": {},
   "source": [
    "# 20각형 만들기\n",
    "\n",
    "![img](https://blog.kakaocdn.net/dn/BDljl/btqGGWRO9Ka/47ZHJ9kc7dJKwCCjuxdCpk/img.png)"
   ]
  },
  {
   "cell_type": "code",
   "execution_count": null,
   "metadata": {},
   "outputs": [],
   "source": [
    "import turtle as t\n",
    "\n",
    "# 코드를 작성하시오\n",
    "    \n",
    "t.mainloop()"
   ]
  },
  {
   "cell_type": "markdown",
   "metadata": {},
   "source": [
    "# 변수를 사용해서 다각형 만들기\n",
    "\n",
    "변수를 활용해서 다양하게 만들어 보자"
   ]
  },
  {
   "cell_type": "code",
   "execution_count": null,
   "metadata": {},
   "outputs": [],
   "source": [
    "import turtle as t\n",
    "\n",
    "line_number = 5\n",
    "line_length = 150\n",
    "degree = @@@\n",
    "\n",
    "# 선언한 변수를 활용하여 코드를 작성하시오\n",
    "    \n",
    "t.mainloop()"
   ]
  },
  {
   "cell_type": "markdown",
   "metadata": {},
   "source": [
    "# 별 만들기\n",
    "![img](https://blog.kakaocdn.net/dn/F4ecc/btqGX4N46Yu/zMledHfXxdjckREP4KBd51/img.png)"
   ]
  },
  {
   "cell_type": "code",
   "execution_count": null,
   "metadata": {},
   "outputs": [],
   "source": [
    "import turtle as t\n",
    "\n",
    "line_number = 5\n",
    "\n",
    "# 코드를 작성하시오\n",
    "    \n",
    "t.mainloop()"
   ]
  },
  {
   "cell_type": "markdown",
   "metadata": {},
   "source": [
    "### 난이도 업\n",
    "- 변수와 수식을 활용해서 5각 별을 만들어라\n",
    "- line_number를 변경할 때 변수에 따라 각이 달라지는 별을 만드는 코드를 만들어라\n",
    "- input 함수를 사용해서"
   ]
  },
  {
   "cell_type": "markdown",
   "metadata": {},
   "source": [
    "# 사각 회오리 만들기\n",
    "\n",
    "![img](https://blog.kakaocdn.net/dn/bdwLLS/btqGGHNBEv2/6dq2B0nDjd7P1aSCP3hkB0/img.png)"
   ]
  },
  {
   "cell_type": "code",
   "execution_count": null,
   "metadata": {},
   "outputs": [],
   "source": [
    "import turtle as t\n",
    "\n",
    "line_number = 4\n",
    "repeat_number = 100 # 100 겹을 만든다.\n",
    "degree = @@@\n",
    "\n",
    "t.color(\"blue\")\n",
    "\n",
    "# 코드를 작성하시오\n",
    "    \n",
    "t.mainloop()"
   ]
  },
  {
   "cell_type": "markdown",
   "metadata": {},
   "source": [
    "### 힌트\n",
    "- `range` 함수의 파라미터는 1, 2, 3 인 경우가 다릅니다. 찾아보세요.\n",
    "- 그리는 순서에 따라서 각 선의 길이의 규칙성을 찾아보세요.\n",
    "\n",
    "### 난이도 업\n",
    "- `line_number`을 조정해서 다양한 다각형을 그려보세요.\n",
    "- 회오리의 간격을 조절해 보세요."
   ]
  }
 ],
 "metadata": {
  "kernelspec": {
   "display_name": "turtle",
   "language": "python",
   "name": "python3"
  },
  "language_info": {
   "codemirror_mode": {
    "name": "ipython",
    "version": 3
   },
   "file_extension": ".py",
   "mimetype": "text/x-python",
   "name": "python",
   "nbconvert_exporter": "python",
   "pygments_lexer": "ipython3",
   "version": "3.12.9"
  },
  "orig_nbformat": 4
 },
 "nbformat": 4,
 "nbformat_minor": 2
}
