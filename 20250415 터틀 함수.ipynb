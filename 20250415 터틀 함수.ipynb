{
 "cells": [
  {
   "cell_type": "markdown",
   "metadata": {},
   "source": [
    "# 명령어 복습\n",
    "\n",
    "1. mainloop()\n",
    "    <br>: 계속해서 창이 열릴 수 있도록 함\n",
    "2. speed(0~10)\n",
    "    <br>: 속도 변경 (숫자가 클수록 빠름)\n",
    "    <br> 0(최고속도), 1(느림), 10(빠름)\n",
    "3. forward(픽셀수), fd(픽셀수) \n",
    "    <br>: 커서 방향으로 픽셀수 만큼 전진\n",
    "4. backward(픽셀수), bk(픽셀수), back(픽셀수)\n",
    "   <br>: 커서 반대방향으로 픽셀수 만큼 후진\n",
    "5. right(각도), rt(각도)\n",
    "    <br>: 커서방향이 오른쪽으로 각도만큼 회전\n",
    "6. left(각도), lt(각도)\n",
    "    <br>: 커서방향이 왼쪽으로 각도만큼 회전\n",
    "7. shape(\"name\")\n",
    "    <br>: 커서의 모양을 변경 (아래 이미지 참고)\n",
    "<br>![이미지](https://blog.kakaocdn.net/dn/bAn1Re/btqRL2F5aUU/tOnO8JAcWaGLpTojSB2BPK/img.jpg)"
   ]
  },
  {
   "cell_type": "markdown",
   "metadata": {},
   "source": [
    "# 명령어 복습\n",
    "\n",
    "1. goto(x,y), setpos(x,y)\n",
    "   <br>: 터틀을 (x,y)의 위치로 이동\n",
    "2. pensize(x)\n",
    "   <br>: 그리는 선의 굵기를 x로 해준다.\n",
    "3. color(\"색상\")\n",
    "   <br>: 원하는 색상을 넣으면, 선과 터틀의 색상이 바뀐다.\n",
    "```python\n",
    "# 색상 종류\n",
    "colors=[\n",
    "    'red', \n",
    "    'blue',\n",
    "    'yellow',\n",
    "    'black',\n",
    "    'white',\n",
    "    'violet',\n",
    "    'green'\n",
    "    ]\n",
    "```"
   ]
  },
  {
   "cell_type": "markdown",
   "metadata": {},
   "source": [
    "# 문제1 다각형을 그리는 코드를 변경하여\n",
    "\n",
    "<img src=\"https://github.com/taktakgyun/study-rust-SimpleWebServer/assets/18041844/2599c400-0003-4adb-82a3-c3cbac98f678\" width=\"300\" height=\"300\"/>\n",
    "\n",
    "위 그림과 같이 삼각형, 오각형, 육각형, 십각형을 `goto`함수를 사용하여 적당한 위치로 떨어 트린 후에 그려라\n",
    "\n",
    "- 단 다각형 이외에 아티펙트가 생기면 안됨.\n",
    "- t.penup, t.pendown 을 활용할것"
   ]
  },
  {
   "cell_type": "code",
   "execution_count": null,
   "metadata": {},
   "outputs": [],
   "source": [
    "import turtle as t\n",
    "\n",
    "# 코드를 작성하시오\n",
    "\n",
    "t.mainloop()"
   ]
  },
  {
   "cell_type": "markdown",
   "metadata": {},
   "source": [
    "# 문제2 함수를 사용하여 다양한 다각형 만들기\n",
    "\n",
    "### draw_polygon의 빈칸을 작성하여, 그림과 같은 결과를 만드시오.\n",
    "<img src=\"https://github.com/taktakgyun/study-rust-SimpleWebServer/assets/18041844/2599c400-0003-4adb-82a3-c3cbac98f678\" width=\"300\" height=\"300\"/>"
   ]
  },
  {
   "cell_type": "code",
   "execution_count": null,
   "metadata": {},
   "outputs": [],
   "source": [
    "import turtle as t\n",
    "t.penup()\n",
    "def draw_polygon(num:int, length:int):\n",
    "    # 1. 코드를 작성하시오\n",
    "    # 2. 코드를 작성하시오\n",
    "    # 3. 코드를 작성하시오\n",
    "    # 4. 코드를 작성하시오\n",
    "    # 5. 코드를 작성하시오\n",
    "    # 6. 코드를 작성하시오\n",
    "    ...\n",
    "\n",
    "t.goto(-150, -150)\n",
    "draw_polygon(10, 50)\n",
    "t.goto(-100, 100)\n",
    "draw_polygon(6, 60)\n",
    "t.goto(100, 100)\n",
    "draw_polygon(5, 40)\n",
    "t.goto(100, -100)\n",
    "draw_polygon(3, 60)\n",
    "t.mainloop()"
   ]
  },
  {
   "cell_type": "markdown",
   "metadata": {},
   "source": [
    "## 문제3 3*3 원 그리기\n",
    "<img src=\"https://github.com/taktakgyun/study-rust-SimpleWebServer/assets/18041844/c0e484b0-3499-4bea-8ee1-6e141cfc8088\" width=\"300\" height=\"300\"/>\n",
    "<img src=\"https://github.com/taktakgyun/study-rust-SimpleWebServer/assets/18041844/d4a18e8f-2fba-4e70-b0d9-ecdc563cb66e\" width=\"300\" height=\"300\"/><br>\n",
    "앞에서 작성한 `draw_circle`를 사용하여 3X3의 동그라미 그리기\n",
    "\n",
    "\n",
    "### 힌트\n",
    "1. for문을 이중으로 작성하는 것이 좋다.\n",
    "2. 언패킹을 사용하면 좀더 깔끔한 코드를 작성할수 있어요"
   ]
  },
  {
   "cell_type": "code",
   "execution_count": null,
   "metadata": {},
   "outputs": [],
   "source": [
    "import turtle as t\n",
    "from typing import List, Tuple\n",
    "\n",
    "t.pensize(2)\n",
    "t.speed(0)\n",
    "\n",
    "def draw_circle(pos:Tuple[int,int], color):\n",
    "    down = t.isdown()\n",
    "    t.penup()\n",
    "    r= 30\n",
    "    t.goto(@@@)\n",
    "    t.pendown()\n",
    "    t.color(color)\n",
    "    t.circle(r)\n",
    "    if not down:\n",
    "        t.penup()\n",
    "\n",
    "start_point = [-100,-100]\n",
    "xgap = 100\n",
    "ygap = 100\n",
    "colors = ['red','green', 'blue']\n",
    "\n",
    "for i in range(3):\n",
    "    for j in range(3):\n",
    "        [x , y] = start_point\n",
    "        new_point = @@@\n",
    "        draw_circle(new_point, 'black')\n",
    "\n",
    "t.mainloop()\n"
   ]
  },
  {
   "cell_type": "markdown",
   "metadata": {},
   "source": [
    "## 문제4 draw_polygon를 사용하여 그림과 같은 결과를 만드시오.\n",
    "<img src=\"https://github.com/taktakgyun/study-rust-SimpleWebServer/assets/18041844/1eaee721-1053-4d7b-b33e-e0d0103cd2de\" width=\"300\" height=\"300\"/>"
   ]
  },
  {
   "cell_type": "code",
   "execution_count": null,
   "metadata": {},
   "outputs": [],
   "source": [
    "import turtle as t\n",
    "\n",
    "n = 3\n",
    "colors = ['red', 'blue', 'green', 'yellow', 'purple']\n",
    "start_point = [-150, -150]\n",
    "xgap = 150\n",
    "ygap = 150\n",
    "t.penup()\n",
    "t.speed(0)\n",
    "\n",
    "def draw_polygon(num:int, length:int):\n",
    "    degree = 360/num\n",
    "    t.pendown()\n",
    "    for i in range(num):\n",
    "        t.forward(length)\n",
    "        t.left(degree)\n",
    "    t.penup()\n",
    "\n",
    "# 1. 코드를 작성하시오\n",
    "    # 2. 코드를 작성하시오\n",
    "        # 3. 코드를 작성하시오 x,y\n",
    "        # 4. 코드를 작성하시오 x,y\n",
    "        # 5. 코드를 작성하시오 goto\n",
    "        # 6. 코드를 작성하시오 color\n",
    "        # 7. 코드를 작성하시오 draw_polygon\n",
    "        # 8. 코드를 작성하시오 ???\n",
    "t.mainloop()"
   ]
  }
 ],
 "metadata": {
  "kernelspec": {
   "display_name": "turtle",
   "language": "python",
   "name": "python3"
  },
  "language_info": {
   "codemirror_mode": {
    "name": "ipython",
    "version": 3
   },
   "file_extension": ".py",
   "mimetype": "text/x-python",
   "name": "python",
   "nbconvert_exporter": "python",
   "pygments_lexer": "ipython3",
   "version": "3.12.9"
  }
 },
 "nbformat": 4,
 "nbformat_minor": 2
}
